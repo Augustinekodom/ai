{
  "nbformat": 4,
  "nbformat_minor": 0,
  "metadata": {
    "colab": {
      "provenance": [],
      "authorship_tag": "ABX9TyMOGElA7Kc+jG7ZZ6pk9zTZ",
      "include_colab_link": true
    },
    "kernelspec": {
      "name": "python3",
      "display_name": "Python 3"
    },
    "language_info": {
      "name": "python"
    }
  },
  "cells": [
    {
      "cell_type": "markdown",
      "metadata": {
        "id": "view-in-github",
        "colab_type": "text"
      },
      "source": [
        "<a href=\"https://colab.research.google.com/github/Augustinekodom/ai/blob/main/Exercise_2_DataFrames_and_Data_Manipulation.ipynb\" target=\"_parent\"><img src=\"https://colab.research.google.com/assets/colab-badge.svg\" alt=\"Open In Colab\"/></a>"
      ]
    },
    {
      "cell_type": "code",
      "execution_count": 2,
      "metadata": {
        "id": "LO-2BHS1HtMQ"
      },
      "outputs": [],
      "source": [
        "import pandas as pd"
      ]
    },
    {
      "cell_type": "code",
      "source": [
        "data = {\n",
        "    'OrderID': ['001', '002', '003', '004', '005'],\n",
        "    'ProductCategory': ['Electronics', 'Clothing', 'Electronics', 'Toys', 'Clothing'],\n",
        "    'Quantity': [1, 2, 3, 2, 1],\n",
        "    'TransactionDate': ['2024-01-01', '2024-01-02', '2024-01-03', '2024-01-04', '2024-01-05']\n",
        "}\n",
        "transactions = pd.DataFrame(data)"
      ],
      "metadata": {
        "id": "iNZDEqdHIFsi"
      },
      "execution_count": 3,
      "outputs": []
    },
    {
      "cell_type": "code",
      "source": [
        "def filter_transactions_by_category(df, category):\n",
        "    return df[df['ProductCategory'] == category]"
      ],
      "metadata": {
        "id": "wS7AKb0fIa3W"
      },
      "execution_count": 4,
      "outputs": []
    },
    {
      "cell_type": "code",
      "source": [
        "# Example usage:\n",
        "electronics_transactions = filter_transactions_by_category(transactions, 'Electronics')\n",
        "print(electronics_transactions)"
      ],
      "metadata": {
        "colab": {
          "base_uri": "https://localhost:8080/"
        },
        "id": "ir03Zm0DIjyH",
        "outputId": "07c8be70-ccae-4dd1-f236-5d6441f64a76"
      },
      "execution_count": 5,
      "outputs": [
        {
          "output_type": "stream",
          "name": "stdout",
          "text": [
            "  OrderID ProductCategory  Quantity TransactionDate\n",
            "0     001     Electronics         1      2024-01-01\n",
            "2     003     Electronics         3      2024-01-03\n"
          ]
        }
      ]
    },
    {
      "cell_type": "code",
      "source": [
        "prices = {'Electronics': 200, 'Clothing': 50, 'Toys': 30}\n",
        "transactions['TotalCost'] = transactions['ProductCategory'].map(prices) * transactions['Quantity']\n",
        "\n",
        "print(transactions)"
      ],
      "metadata": {
        "colab": {
          "base_uri": "https://localhost:8080/"
        },
        "id": "zlMUkW2MI-k5",
        "outputId": "57d11af1-360a-4d8e-d2ce-243735ecfb82"
      },
      "execution_count": 6,
      "outputs": [
        {
          "output_type": "stream",
          "name": "stdout",
          "text": [
            "  OrderID ProductCategory  Quantity TransactionDate  TotalCost\n",
            "0     001     Electronics         1      2024-01-01        200\n",
            "1     002        Clothing         2      2024-01-02        100\n",
            "2     003     Electronics         3      2024-01-03        600\n",
            "3     004            Toys         2      2024-01-04         60\n",
            "4     005        Clothing         1      2024-01-05         50\n"
          ]
        }
      ]
    },
    {
      "cell_type": "code",
      "source": [
        "grouped_data = transactions.groupby('ProductCategory').agg(\n",
        "    TotalQuantitySold=pd.NamedAgg(column='Quantity', aggfunc='sum'),\n",
        "    TotalSales=pd.NamedAgg(column='TotalCost', aggfunc='sum')\n",
        ")\n",
        "\n",
        "print(grouped_data)"
      ],
      "metadata": {
        "colab": {
          "base_uri": "https://localhost:8080/"
        },
        "id": "hhioRIsAOMYA",
        "outputId": "a6358089-ebf3-4e38-8613-c7c6ab40aebb"
      },
      "execution_count": 7,
      "outputs": [
        {
          "output_type": "stream",
          "name": "stdout",
          "text": [
            "                 TotalQuantitySold  TotalSales\n",
            "ProductCategory                               \n",
            "Clothing                         3         150\n",
            "Electronics                      4         800\n",
            "Toys                             2          60\n"
          ]
        }
      ]
    }
  ]
}