{
  "nbformat": 4,
  "nbformat_minor": 0,
  "metadata": {
    "colab": {
      "provenance": [],
      "authorship_tag": "ABX9TyMOx/2EWORfw4IUDDYlcbDS",
      "include_colab_link": true
    },
    "kernelspec": {
      "name": "python3",
      "display_name": "Python 3"
    },
    "language_info": {
      "name": "python"
    }
  },
  "cells": [
    {
      "cell_type": "markdown",
      "metadata": {
        "id": "view-in-github",
        "colab_type": "text"
      },
      "source": [
        "<a href=\"https://colab.research.google.com/github/Augustinekodom/ai/blob/main/exercise1_Numpy_basics.ipynb\" target=\"_parent\"><img src=\"https://colab.research.google.com/assets/colab-badge.svg\" alt=\"Open In Colab\"/></a>"
      ]
    },
    {
      "cell_type": "code",
      "execution_count": 2,
      "metadata": {
        "id": "XmD7WEgfDuJb"
      },
      "outputs": [],
      "source": [
        "import numpy as np"
      ]
    },
    {
      "cell_type": "code",
      "source": [
        "monthly_temperatures = np.array([10, 12, 15, 18, 22, 25, 27, 26, 23, 19, 14, 11])\n"
      ],
      "metadata": {
        "id": "1riCv4TMFKq8"
      },
      "execution_count": 3,
      "outputs": []
    },
    {
      "cell_type": "code",
      "source": [
        "mean_temperature = np.mean(monthly_temperatures)\n",
        "median_temperature = np.median(monthly_temperatures)\n",
        "std_deviation_temperature = np.std(monthly_temperatures)"
      ],
      "metadata": {
        "id": "M_pEjXOyFTje"
      },
      "execution_count": 4,
      "outputs": []
    },
    {
      "cell_type": "code",
      "source": [
        "print(f\"Mean Temperature: {mean_temperature}\")\n",
        "print(f\"Median Temperature: {median_temperature}\")\n",
        "print(f\"Standard Deviation of Temperature: {std_deviation_temperature}\")\n"
      ],
      "metadata": {
        "colab": {
          "base_uri": "https://localhost:8080/"
        },
        "id": "NODGe92VG_6B",
        "outputId": "d3b2d960-37bc-479f-cef6-ebd63396aa3f"
      },
      "execution_count": 7,
      "outputs": [
        {
          "output_type": "stream",
          "name": "stdout",
          "text": [
            "Mean Temperature: 18.5\n",
            "Median Temperature: 18.5\n",
            "Standard Deviation of Temperature: 5.823801736552049\n"
          ]
        }
      ]
    },
    {
      "cell_type": "code",
      "source": [
        "months_above_average = np.where(monthly_temperatures > mean_temperature)[0]  # Returns indices of months\n",
        "print(f\"Months with temperatures above the annual average (0-indexed): {months_above_average}\")\n"
      ],
      "metadata": {
        "colab": {
          "base_uri": "https://localhost:8080/"
        },
        "id": "QjhC1MIDFnmq",
        "outputId": "30804bce-c60f-43bd-cfc5-d48228fdf625"
      },
      "execution_count": 5,
      "outputs": [
        {
          "output_type": "stream",
          "name": "stdout",
          "text": [
            "Months with temperatures above the annual average (0-indexed): [4 5 6 7 8 9]\n"
          ]
        }
      ]
    },
    {
      "cell_type": "code",
      "source": [
        "monthly_temperatures_reshaped = monthly_temperatures.reshape((4, 3))\n",
        "quarterly_averages = np.mean(monthly_temperatures_reshaped, axis=1)\n",
        "\n",
        "print(f\"Quarterly Averages: {quarterly_averages}\")"
      ],
      "metadata": {
        "colab": {
          "base_uri": "https://localhost:8080/"
        },
        "id": "2fSCd1CjGg_A",
        "outputId": "ae541da3-6916-4824-a7ea-175624804101"
      },
      "execution_count": 6,
      "outputs": [
        {
          "output_type": "stream",
          "name": "stdout",
          "text": [
            "Quarterly Averages: [12.33333333 21.66666667 25.33333333 14.66666667]\n"
          ]
        }
      ]
    }
  ]
}